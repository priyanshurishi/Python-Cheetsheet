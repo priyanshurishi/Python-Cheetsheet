{
  "nbformat": 4,
  "nbformat_minor": 0,
  "metadata": {
    "colab": {
      "name": "day2.ipynb",
      "provenance": [],
      "collapsed_sections": [],
      "authorship_tag": "ABX9TyOcWaOEyKPtVIv7q5WKqSiQ",
      "include_colab_link": true
    },
    "kernelspec": {
      "name": "python3",
      "display_name": "Python 3"
    }
  },
  "cells": [
    {
      "cell_type": "markdown",
      "metadata": {
        "id": "view-in-github",
        "colab_type": "text"
      },
      "source": [
        "<a href=\"https://colab.research.google.com/github/priyanshurishi/Python-Cheetsheet/blob/main/day2.ipynb\" target=\"_parent\"><img src=\"https://colab.research.google.com/assets/colab-badge.svg\" alt=\"Open In Colab\"/></a>"
      ]
    },
    {
      "cell_type": "code",
      "metadata": {
        "id": "fKC9Vvalx824",
        "colab": {
          "base_uri": "https://localhost:8080/",
          "height": 67
        },
        "outputId": "5a9b41af-9aaa-406e-fd4c-62dcd028f5c3"
      },
      "source": [
        "users = ['val', 'bob', 'mia', 'ron', 'ned']\n",
        "first_user = users[0]\n",
        "second_user = users[1]\n",
        "newest_user = users[-1]\n",
        "print(\"The first element is \"+first_user)\n",
        "print(\"The second element is \"+second_user)\n",
        "print(\"The last element is \"+newest_user)"
      ],
      "execution_count": null,
      "outputs": [
        {
          "output_type": "stream",
          "text": [
            "The first element is val\n",
            "The second element is bob\n",
            "The last element is ned\n"
          ],
          "name": "stdout"
        }
      ]
    },
    {
      "cell_type": "code",
      "metadata": {
        "id": "mddDNbkcysAr",
        "colab": {
          "base_uri": "https://localhost:8080/",
          "height": 34
        },
        "outputId": "9ba4c3b8-6787-4174-931a-7917b9575d20"
      },
      "source": [
        "users[0] = 'valerie'\n",
        "users[-2] = 'ronald'\n",
        "print(users)"
      ],
      "execution_count": null,
      "outputs": [
        {
          "output_type": "stream",
          "text": [
            "['valerie', 'bob', 'mia', 'ronald', 'ned']\n"
          ],
          "name": "stdout"
        }
      ]
    },
    {
      "cell_type": "code",
      "metadata": {
        "id": "wcYMi-diy6Vp",
        "colab": {
          "base_uri": "https://localhost:8080/",
          "height": 34
        },
        "outputId": "2739beff-9a06-4c4f-8af6-641109614c37"
      },
      "source": [
        "users.append('amy')\n",
        "print(users)"
      ],
      "execution_count": null,
      "outputs": [
        {
          "output_type": "stream",
          "text": [
            "['valerie', 'bob', 'mia', 'ronald', 'ned', 'amy']\n"
          ],
          "name": "stdout"
        }
      ]
    },
    {
      "cell_type": "code",
      "metadata": {
        "id": "BcMGztIDz4Gg",
        "colab": {
          "base_uri": "https://localhost:8080/",
          "height": 34
        },
        "outputId": "fe47e2ca-9596-4c3b-d1e0-aa8bc64f9590"
      },
      "source": [
        "users = []\n",
        "users.append('val')\n",
        "users.append('bob')\n",
        "users.append('mia')\n",
        "print(users)"
      ],
      "execution_count": null,
      "outputs": [
        {
          "output_type": "stream",
          "text": [
            "['val', 'bob', 'mia']\n"
          ],
          "name": "stdout"
        }
      ]
    },
    {
      "cell_type": "code",
      "metadata": {
        "id": "ddRbCoAH0CBl",
        "colab": {
          "base_uri": "https://localhost:8080/",
          "height": 34
        },
        "outputId": "cdea86da-993f-4fe1-9b0b-7e8d1810e4f3"
      },
      "source": [
        "users.insert(0, 'joe')\n",
        "users.insert(3, 'bea')\n",
        "print(users)"
      ],
      "execution_count": null,
      "outputs": [
        {
          "output_type": "stream",
          "text": [
            "['joe', 'val', 'bob', 'bea', 'mia']\n"
          ],
          "name": "stdout"
        }
      ]
    },
    {
      "cell_type": "code",
      "metadata": {
        "id": "OPcMOTWQ0K7B",
        "colab": {
          "base_uri": "https://localhost:8080/",
          "height": 34
        },
        "outputId": "9480da8e-5ff0-45ce-8d42-4b1ea3c7077c"
      },
      "source": [
        "del users[-1]\n",
        "print(users)"
      ],
      "execution_count": null,
      "outputs": [
        {
          "output_type": "stream",
          "text": [
            "['joe', 'val', 'bob', 'bea']\n"
          ],
          "name": "stdout"
        }
      ]
    },
    {
      "cell_type": "code",
      "metadata": {
        "id": "yIRluJzi0dpU",
        "colab": {
          "base_uri": "https://localhost:8080/",
          "height": 34
        },
        "outputId": "f4d80fda-c7da-4ff9-bba6-f085e7ee15ff"
      },
      "source": [
        "users.remove('val')\n",
        "print(users)"
      ],
      "execution_count": null,
      "outputs": [
        {
          "output_type": "stream",
          "text": [
            "['joe', 'bob', 'bea']\n"
          ],
          "name": "stdout"
        }
      ]
    },
    {
      "cell_type": "code",
      "metadata": {
        "id": "SWEb8oJR1L4b",
        "colab": {
          "base_uri": "https://localhost:8080/",
          "height": 50
        },
        "outputId": "0c5e0faf-807b-4f55-e59b-67c62c8280e9"
      },
      "source": [
        "most_recent_user = users.pop()\n",
        "print(most_recent_user)\n",
        "print(users)"
      ],
      "execution_count": null,
      "outputs": [
        {
          "output_type": "stream",
          "text": [
            "bea\n",
            "['joe', 'bob']\n"
          ],
          "name": "stdout"
        }
      ]
    },
    {
      "cell_type": "code",
      "metadata": {
        "id": "aRjsGcmP1uM6",
        "colab": {
          "base_uri": "https://localhost:8080/",
          "height": 50
        },
        "outputId": "571ad2ca-65bf-46b4-9c7a-162b13ca0bbe"
      },
      "source": [
        "first_user = users.pop(0)\n",
        "print(first_user)\n",
        "print(users)"
      ],
      "execution_count": null,
      "outputs": [
        {
          "output_type": "stream",
          "text": [
            "joe\n",
            "['bob']\n"
          ],
          "name": "stdout"
        }
      ]
    },
    {
      "cell_type": "code",
      "metadata": {
        "id": "Z6-5GYDv12xY",
        "colab": {
          "base_uri": "https://localhost:8080/",
          "height": 34
        },
        "outputId": "0ed18f46-50e8-48ce-90c0-d8f2f8932cc7"
      },
      "source": [
        "users = ['val', 'bob', 'mia', 'ron', 'ned']\n",
        "num_users = len(users)\n",
        "print(\"We have \" + str(num_users) + \" users.\")"
      ],
      "execution_count": null,
      "outputs": [
        {
          "output_type": "stream",
          "text": [
            "We have 5 users.\n"
          ],
          "name": "stdout"
        }
      ]
    },
    {
      "cell_type": "code",
      "metadata": {
        "id": "x-Skyy202sxy",
        "colab": {
          "base_uri": "https://localhost:8080/",
          "height": 101
        },
        "outputId": "a5597b32-fcce-437b-b374-0bb71e57ad1f"
      },
      "source": [
        "users.sort()\n",
        "print(users)\n",
        "users.sort(reverse=True)\n",
        "print(users)\n",
        "print(sorted(users))\n",
        "print(sorted(users, reverse=True))\n",
        "users.reverse()\n",
        "print(users)"
      ],
      "execution_count": null,
      "outputs": [
        {
          "output_type": "stream",
          "text": [
            "['bob', 'mia', 'ned', 'ron', 'val']\n",
            "['val', 'ron', 'ned', 'mia', 'bob']\n",
            "['bob', 'mia', 'ned', 'ron', 'val']\n",
            "['val', 'ron', 'ned', 'mia', 'bob']\n",
            "['bob', 'mia', 'ned', 'ron', 'val']\n"
          ],
          "name": "stdout"
        }
      ]
    },
    {
      "cell_type": "code",
      "metadata": {
        "id": "9s6FztZ93sC2",
        "colab": {
          "base_uri": "https://localhost:8080/",
          "height": 101
        },
        "outputId": "1b74e085-02a7-4d6d-8b2d-d6d63e88b6bb"
      },
      "source": [
        "for user in users:\n",
        "  print(user)\n"
      ],
      "execution_count": null,
      "outputs": [
        {
          "output_type": "stream",
          "text": [
            "bob\n",
            "mia\n",
            "ned\n",
            "ron\n",
            "val\n"
          ],
          "name": "stdout"
        }
      ]
    },
    {
      "cell_type": "code",
      "metadata": {
        "id": "4gZU1ANQ35yj",
        "colab": {
          "base_uri": "https://localhost:8080/",
          "height": 185
        },
        "outputId": "053f0930-9383-487d-f5ab-6d3fbbc532c6"
      },
      "source": [
        "for user in users:\n",
        "  print(\"Welcome, \" + user + \"!\")\n",
        "  print(\"Welcome, we're glad to see you all!\")"
      ],
      "execution_count": null,
      "outputs": [
        {
          "output_type": "stream",
          "text": [
            "Welcome, bob!\n",
            "Welcome, we're glad to see you all!\n",
            "Welcome, mia!\n",
            "Welcome, we're glad to see you all!\n",
            "Welcome, ned!\n",
            "Welcome, we're glad to see you all!\n",
            "Welcome, ron!\n",
            "Welcome, we're glad to see you all!\n",
            "Welcome, val!\n",
            "Welcome, we're glad to see you all!\n"
          ],
          "name": "stdout"
        }
      ]
    },
    {
      "cell_type": "code",
      "metadata": {
        "id": "jrmJXEjF4Wa5"
      },
      "source": [
        "for number in range(1001):\n",
        "  print(number)"
      ],
      "execution_count": null,
      "outputs": []
    },
    {
      "cell_type": "code",
      "metadata": {
        "id": "EvJf1Hec41pr",
        "colab": {
          "base_uri": "https://localhost:8080/",
          "height": 54
        },
        "outputId": "2252e9ea-885e-4953-cc7f-96eb4d35d9c3"
      },
      "source": [
        "numbers = list(range(1, 101))\n",
        "print(numbers)"
      ],
      "execution_count": null,
      "outputs": [
        {
          "output_type": "stream",
          "text": [
            "[1, 2, 3, 4, 5, 6, 7, 8, 9, 10, 11, 12, 13, 14, 15, 16, 17, 18, 19, 20, 21, 22, 23, 24, 25, 26, 27, 28, 29, 30, 31, 32, 33, 34, 35, 36, 37, 38, 39, 40, 41, 42, 43, 44, 45, 46, 47, 48, 49, 50, 51, 52, 53, 54, 55, 56, 57, 58, 59, 60, 61, 62, 63, 64, 65, 66, 67, 68, 69, 70, 71, 72, 73, 74, 75, 76, 77, 78, 79, 80, 81, 82, 83, 84, 85, 86, 87, 88, 89, 90, 91, 92, 93, 94, 95, 96, 97, 98, 99, 100]\n"
          ],
          "name": "stdout"
        }
      ]
    },
    {
      "cell_type": "code",
      "metadata": {
        "id": "p8r-JX4f5kLg",
        "colab": {
          "base_uri": "https://localhost:8080/",
          "height": 67
        },
        "outputId": "6de5d704-1ce0-47b7-9fa0-8b343a3ac33b"
      },
      "source": [
        "ages = [93, 99, 66, 17, 85, 1, 35, 82, 2, 77]\n",
        "youngest = min(ages)\n",
        "oldest = max(ages)\n",
        "total_years = sum(ages)\n",
        "print(youngest)\n",
        "print(oldest)\n",
        "print(total_years)"
      ],
      "execution_count": null,
      "outputs": [
        {
          "output_type": "stream",
          "text": [
            "1\n",
            "99\n",
            "557\n"
          ],
          "name": "stdout"
        }
      ]
    },
    {
      "cell_type": "code",
      "metadata": {
        "id": "km8QlAVL6Czg",
        "colab": {
          "base_uri": "https://localhost:8080/",
          "height": 67
        },
        "outputId": "74baea06-ac1b-4b48-9906-b15a4db49dd2"
      },
      "source": [
        "finishers = ['kai', 'abe', 'ada', 'gus', 'zoe']\n",
        "first_three = finishers[:3]\n",
        "middle_three = finishers[1:4]\n",
        "last_three = finishers[-3:]\n",
        "print(first_three)\n",
        "print(middle_three)\n",
        "print(last_three)"
      ],
      "execution_count": null,
      "outputs": [
        {
          "output_type": "stream",
          "text": [
            "['kai', 'abe', 'ada']\n",
            "['abe', 'ada', 'gus']\n",
            "['ada', 'gus', 'zoe']\n"
          ],
          "name": "stdout"
        }
      ]
    },
    {
      "cell_type": "code",
      "metadata": {
        "id": "QrXkyqUG7NC8",
        "colab": {
          "base_uri": "https://localhost:8080/",
          "height": 34
        },
        "outputId": "6dc4f666-ef85-426a-ed05-8081310851cc"
      },
      "source": [
        "finishers = ['kai', 'abe', 'ada', 'gus', 'zoe']\n",
        "copy_of_finishers = finishers[:]\n",
        "print(copy_of_finishers)"
      ],
      "execution_count": null,
      "outputs": [
        {
          "output_type": "stream",
          "text": [
            "['kai', 'abe', 'ada', 'gus', 'zoe']\n"
          ],
          "name": "stdout"
        }
      ]
    },
    {
      "cell_type": "code",
      "metadata": {
        "id": "DM4yCD7k7RbY",
        "colab": {
          "base_uri": "https://localhost:8080/",
          "height": 34
        },
        "outputId": "051c45f9-7cd0-4b50-ac88-95be55b66f9e"
      },
      "source": [
        "squares = []\n",
        "for x in range(1, 11):\n",
        "  square = x**2\n",
        "  squares.append(square)\n",
        "print(squares)"
      ],
      "execution_count": null,
      "outputs": [
        {
          "output_type": "stream",
          "text": [
            "[1, 4, 9, 16, 25, 36, 49, 64, 81, 100]\n"
          ],
          "name": "stdout"
        }
      ]
    },
    {
      "cell_type": "code",
      "metadata": {
        "id": "ntUTWyX9OOve",
        "colab": {
          "base_uri": "https://localhost:8080/",
          "height": 34
        },
        "outputId": "43467d64-e3a3-44f9-ead8-e53de8bfe86a"
      },
      "source": [
        "squares = [x**2 for x in range(1, 11)]\n",
        "print(squares)"
      ],
      "execution_count": null,
      "outputs": [
        {
          "output_type": "stream",
          "text": [
            "[1, 4, 9, 16, 25, 36, 49, 64, 81, 100]\n"
          ],
          "name": "stdout"
        }
      ]
    },
    {
      "cell_type": "code",
      "metadata": {
        "id": "fjwgz1yAOfso",
        "colab": {
          "base_uri": "https://localhost:8080/",
          "height": 34
        },
        "outputId": "b5f45b35-89a1-49b9-b5ac-f0f7c8a7f88e"
      },
      "source": [
        "names = ['kai', 'abe', 'ada', 'gus', 'zoe']\n",
        "upper_names = []\n",
        "for name in names:\n",
        "  upper_names.append(name.upper())\n",
        "print(upper_names)"
      ],
      "execution_count": null,
      "outputs": [
        {
          "output_type": "stream",
          "text": [
            "['KAI', 'ABE', 'ADA', 'GUS', 'ZOE']\n"
          ],
          "name": "stdout"
        }
      ]
    },
    {
      "cell_type": "code",
      "metadata": {
        "id": "gGeQtCEdPBE6",
        "colab": {
          "base_uri": "https://localhost:8080/",
          "height": 34
        },
        "outputId": "0856d10f-710b-4438-8d3a-fae9435410a7"
      },
      "source": [
        "names = ['kai', 'abe', 'ada', 'gus', 'zoe']\n",
        "upper_names = [name.upper() for name in names]\n",
        "print(upper_names)"
      ],
      "execution_count": null,
      "outputs": [
        {
          "output_type": "stream",
          "text": [
            "['KAI', 'ABE', 'ADA', 'GUS', 'ZOE']\n"
          ],
          "name": "stdout"
        }
      ]
    },
    {
      "cell_type": "code",
      "metadata": {
        "id": "z-QjwGI-PdMI",
        "colab": {
          "base_uri": "https://localhost:8080/",
          "height": 34
        },
        "outputId": "d2010fe2-1a57-4782-d2c1-0dcec7e05179"
      },
      "source": [
        "dimensions = (800, 600)\n",
        "print(dimensions)"
      ],
      "execution_count": null,
      "outputs": [
        {
          "output_type": "stream",
          "text": [
            "(800, 600)\n"
          ],
          "name": "stdout"
        }
      ]
    },
    {
      "cell_type": "code",
      "metadata": {
        "id": "FInYTx5zPlbQ",
        "colab": {
          "base_uri": "https://localhost:8080/",
          "height": 50
        },
        "outputId": "cb2ea571-9486-4bcd-a0cc-b0a3a04f1e1f"
      },
      "source": [
        "for dimension in dimensions:\n",
        "  print(dimension)"
      ],
      "execution_count": null,
      "outputs": [
        {
          "output_type": "stream",
          "text": [
            "800\n",
            "600\n"
          ],
          "name": "stdout"
        }
      ]
    },
    {
      "cell_type": "code",
      "metadata": {
        "id": "tz114rXGPuxZ",
        "colab": {
          "base_uri": "https://localhost:8080/",
          "height": 50
        },
        "outputId": "a768ef35-99b3-46c9-81bf-da9b8efce8e7"
      },
      "source": [
        "dimensions = (800, 600)\n",
        "print(dimensions)\n",
        "dimensions = (1200, 900)\n",
        "print(dimensions)"
      ],
      "execution_count": null,
      "outputs": [
        {
          "output_type": "stream",
          "text": [
            "(800, 600)\n",
            "(1200, 900)\n"
          ],
          "name": "stdout"
        }
      ]
    },
    {
      "cell_type": "code",
      "metadata": {
        "id": "FwNn4ikaP4bw",
        "colab": {
          "base_uri": "https://localhost:8080/",
          "height": 185
        },
        "outputId": "c36074ed-2d1e-484f-caa8-6a841de3c1f6"
      },
      "source": [
        "dogs = []\n",
        "dogs.append('willie')\n",
        "dogs.append('hootz')\n",
        "dogs.append('peso')\n",
        "dogs.append('goblin')\n",
        "for dog in dogs:\n",
        "  print(\"Hello \" + dog + \"!\")\n",
        "print(\"I love these dogs!\")\n",
        "print(\"\\nThese were my first two dogs:\")\n",
        "old_dogs = dogs[:2]\n",
        "for old_dog in old_dogs:\n",
        "  print(old_dog)\n",
        "del dogs[0]\n",
        "dogs.remove('peso')\n",
        "print(dogs)"
      ],
      "execution_count": null,
      "outputs": [
        {
          "output_type": "stream",
          "text": [
            "Hello willie!\n",
            "Hello hootz!\n",
            "Hello peso!\n",
            "Hello goblin!\n",
            "I love these dogs!\n",
            "\n",
            "These were my first two dogs:\n",
            "willie\n",
            "hootz\n",
            "['hootz', 'goblin']\n"
          ],
          "name": "stdout"
        }
      ]
    }
  ]
}