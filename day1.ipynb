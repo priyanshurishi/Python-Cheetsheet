{
  "nbformat": 4,
  "nbformat_minor": 0,
  "metadata": {
    "colab": {
      "name": "day1.ipynb",
      "provenance": [],
      "collapsed_sections": [],
      "mount_file_id": "1HGIaeKepZBBj2B_8kp3knhZH014d0hqU",
      "authorship_tag": "ABX9TyMcFG5Sin30UdQeKfMQerLy",
      "include_colab_link": true
    },
    "kernelspec": {
      "name": "python3",
      "display_name": "Python 3"
    }
  },
  "cells": [
    {
      "cell_type": "markdown",
      "metadata": {
        "id": "view-in-github",
        "colab_type": "text"
      },
      "source": [
        "<a href=\"https://colab.research.google.com/github/priyanshurishi/Python-Cheetsheet/blob/main/day1.ipynb\" target=\"_parent\"><img src=\"https://colab.research.google.com/assets/colab-badge.svg\" alt=\"Open In Colab\"/></a>"
      ]
    },
    {
      "cell_type": "code",
      "metadata": {
        "id": "n0Wy1JWVyvzd",
        "colab": {
          "base_uri": "https://localhost:8080/",
          "height": 34
        },
        "outputId": "b30cc11a-3dba-4483-ff66-c077ab4ced04"
      },
      "source": [
        "print(\"Hello world!\")\n"
      ],
      "execution_count": null,
      "outputs": [
        {
          "output_type": "stream",
          "text": [
            "Hello world!\n"
          ],
          "name": "stdout"
        }
      ]
    },
    {
      "cell_type": "code",
      "metadata": {
        "id": "ZJ8RuZYoy7Y6",
        "colab": {
          "base_uri": "https://localhost:8080/",
          "height": 34
        },
        "outputId": "7d3e6564-79d2-44b6-d125-8a5fddb619c7"
      },
      "source": [
        "msg = \"Hello world!\"\n",
        "print(msg)"
      ],
      "execution_count": null,
      "outputs": [
        {
          "output_type": "stream",
          "text": [
            "Hello world!\n"
          ],
          "name": "stdout"
        }
      ]
    },
    {
      "cell_type": "code",
      "metadata": {
        "id": "ZMNeKOcuzIm-",
        "colab": {
          "base_uri": "https://localhost:8080/",
          "height": 67
        },
        "outputId": "ddda9fbf-3422-41b0-d55b-092223f53ef5"
      },
      "source": [
        "bikes = ['trek', 'redline', 'giant']\n",
        "for bike in bikes:\n",
        "   print(bike)"
      ],
      "execution_count": null,
      "outputs": [
        {
          "output_type": "stream",
          "text": [
            "trek\n",
            "redline\n",
            "giant\n"
          ],
          "name": "stdout"
        }
      ]
    },
    {
      "cell_type": "code",
      "metadata": {
        "id": "_TQmsRZ1zOht",
        "colab": {
          "base_uri": "https://localhost:8080/",
          "height": 34
        },
        "outputId": "b0e69bdf-43d2-4df8-d858-1bcb9581ae57"
      },
      "source": [
        "bikes = []\n",
        "bikes.append('trek')\n",
        "bikes.append('redline')\n",
        "bikes.append('giant')\n",
        "print(bikes)"
      ],
      "execution_count": null,
      "outputs": [
        {
          "output_type": "stream",
          "text": [
            "['trek', 'redline', 'giant']\n"
          ],
          "name": "stdout"
        }
      ]
    },
    {
      "cell_type": "code",
      "metadata": {
        "id": "7svfHHJI0QWV",
        "colab": {
          "base_uri": "https://localhost:8080/",
          "height": 34
        },
        "outputId": "17c8071f-95c0-45ee-f3e6-ce5c9855f1ea"
      },
      "source": [
        "squares = []\n",
        "for x in range(1, 11):\n",
        "  squares.append(x**2) \n",
        "print(squares)"
      ],
      "execution_count": null,
      "outputs": [
        {
          "output_type": "stream",
          "text": [
            "[1, 4, 9, 16, 25, 36, 49, 64, 81, 100]\n"
          ],
          "name": "stdout"
        }
      ]
    },
    {
      "cell_type": "code",
      "metadata": {
        "id": "KwobAIMF0r9q",
        "colab": {
          "base_uri": "https://localhost:8080/",
          "height": 34
        },
        "outputId": "21eef460-79d7-471b-f43e-dca2ccd09ad8"
      },
      "source": [
        "squares = [x**2 for x in range(1, 11)]\n",
        "print(squares)"
      ],
      "execution_count": null,
      "outputs": [
        {
          "output_type": "stream",
          "text": [
            "[1, 4, 9, 16, 25, 36, 49, 64, 81, 100]\n"
          ],
          "name": "stdout"
        }
      ]
    },
    {
      "cell_type": "code",
      "metadata": {
        "id": "WR9c9ayN0891",
        "colab": {
          "base_uri": "https://localhost:8080/",
          "height": 50
        },
        "outputId": "99f38ce1-bbe4-4a4e-d9ba-292350f14471"
      },
      "source": [
        "finishers = ['sam', 'bob', 'ada', 'bea']\n",
        "first_two = finishers[:2]\n",
        "print(finishers)\n",
        "print(first_two)"
      ],
      "execution_count": null,
      "outputs": [
        {
          "output_type": "stream",
          "text": [
            "['sam', 'bob', 'ada', 'bea']\n",
            "['sam', 'bob']\n"
          ],
          "name": "stdout"
        }
      ]
    },
    {
      "cell_type": "code",
      "metadata": {
        "id": "RX2npGn-3h6Y",
        "colab": {
          "base_uri": "https://localhost:8080/",
          "height": 34
        },
        "outputId": "bac64a22-9b75-4b23-e29f-ff8d684b2500"
      },
      "source": [
        "copy_of_bikes = bikes[:]\n",
        "print(copy_of_bikes)\n"
      ],
      "execution_count": null,
      "outputs": [
        {
          "output_type": "stream",
          "text": [
            "['trek', 'redline', 'giant']\n"
          ],
          "name": "stdout"
        }
      ]
    },
    {
      "cell_type": "code",
      "metadata": {
        "id": "0sJQaJPZu_v9",
        "colab": {
          "base_uri": "https://localhost:8080/",
          "height": 34
        },
        "outputId": "76074664-cbdb-4a52-8b6b-a46e29f50456"
      },
      "source": [
        "x=42\n",
        "x != 42\n"
      ],
      "execution_count": null,
      "outputs": [
        {
          "output_type": "execute_result",
          "data": {
            "text/plain": [
              "False"
            ]
          },
          "metadata": {
            "tags": []
          },
          "execution_count": 8
        }
      ]
    },
    {
      "cell_type": "code",
      "metadata": {
        "id": "HrQMmYApvh43",
        "colab": {
          "base_uri": "https://localhost:8080/",
          "height": 34
        },
        "outputId": "cdbbe679-0e88-4ef6-e085-5d185fc97385"
      },
      "source": [
        "'trek' in bikes"
      ],
      "execution_count": null,
      "outputs": [
        {
          "output_type": "execute_result",
          "data": {
            "text/plain": [
              "True"
            ]
          },
          "metadata": {
            "tags": []
          },
          "execution_count": 9
        }
      ]
    },
    {
      "cell_type": "code",
      "metadata": {
        "id": "6zfGQI0Nv2_2",
        "colab": {
          "base_uri": "https://localhost:8080/",
          "height": 34
        },
        "outputId": "b652afca-7c8f-4716-e83e-0c280ae94a95"
      },
      "source": [
        "age=19\n",
        "if age >= 18:\n",
        "  print(\"You can vote!\")"
      ],
      "execution_count": null,
      "outputs": [
        {
          "output_type": "stream",
          "text": [
            "You can vote!\n"
          ],
          "name": "stdout"
        }
      ]
    },
    {
      "cell_type": "code",
      "metadata": {
        "id": "w6tx6E-wwFm-",
        "colab": {
          "base_uri": "https://localhost:8080/",
          "height": 50
        },
        "outputId": "7ab7bbce-1726-4ac6-e291-6b9a526d96cd"
      },
      "source": [
        "age =input(\"Enter the age\")\n",
        "age=int(age)\n",
        "if age < 4:\n",
        "  ticket_price = 0\n",
        "  print(ticket_price)\n",
        "elif age < 18:\n",
        "  ticket_price = 10\n",
        "  print(ticket_price)\n",
        "else:\n",
        "  ticket_price = 15\n",
        "  print(ticket_price)"
      ],
      "execution_count": null,
      "outputs": [
        {
          "output_type": "stream",
          "text": [
            "Enter the age15\n",
            "10\n"
          ],
          "name": "stdout"
        }
      ]
    },
    {
      "cell_type": "code",
      "metadata": {
        "id": "SlIHBPlWxI8_",
        "colab": {
          "base_uri": "https://localhost:8080/",
          "height": 50
        },
        "outputId": "eb68fa29-12c4-4739-cf81-568483414f54"
      },
      "source": [
        "alien = {'color': 'green', 'points': '5'}\n",
        "print(\"The alien's color is \" + alien['color'])\n",
        "print(\"The alien's point is \" + alien['points'])"
      ],
      "execution_count": null,
      "outputs": [
        {
          "output_type": "stream",
          "text": [
            "The alien's color is green\n",
            "The alien's point is 5\n"
          ],
          "name": "stdout"
        }
      ]
    },
    {
      "cell_type": "code",
      "metadata": {
        "id": "aYt1m-qwx21j",
        "colab": {
          "base_uri": "https://localhost:8080/",
          "height": 34
        },
        "outputId": "b3a0d8cb-92aa-4dfa-f084-ef845c250ac6"
      },
      "source": [
        "alien['x_position'] = 0\n",
        "print(alien)"
      ],
      "execution_count": null,
      "outputs": [
        {
          "output_type": "stream",
          "text": [
            "{'color': 'green', 'points': '5', 'x_position': 0}\n"
          ],
          "name": "stdout"
        }
      ]
    },
    {
      "cell_type": "code",
      "metadata": {
        "id": "g8c-Er1Ix_j2",
        "colab": {
          "base_uri": "https://localhost:8080/",
          "height": 50
        },
        "outputId": "e50d5325-ac5a-4644-e227-b3a687eb69ba"
      },
      "source": [
        "fav_numbers = {'eric': 17, 'ever': 4}\n",
        "for name, number in fav_numbers.items():\n",
        "  print(name + ' loves ' + str(number))"
      ],
      "execution_count": null,
      "outputs": [
        {
          "output_type": "stream",
          "text": [
            "eric loves 17\n",
            "ever loves 4\n"
          ],
          "name": "stdout"
        }
      ]
    },
    {
      "cell_type": "code",
      "metadata": {
        "id": "ZIvithumyJW_",
        "colab": {
          "base_uri": "https://localhost:8080/",
          "height": 50
        },
        "outputId": "6b400287-3083-4743-b33b-131374052d28"
      },
      "source": [
        "fav_numbers = {'eric': 17, 'ever': 4}\n",
        "for number in fav_numbers.values():\n",
        "  print(str(number) + ' is a favorite')"
      ],
      "execution_count": null,
      "outputs": [
        {
          "output_type": "stream",
          "text": [
            "17 is a favorite\n",
            "4 is a favorite\n"
          ],
          "name": "stdout"
        }
      ]
    },
    {
      "cell_type": "code",
      "metadata": {
        "id": "CnH3loeoyby0",
        "colab": {
          "base_uri": "https://localhost:8080/",
          "height": 50
        },
        "outputId": "2010cdcb-3c2a-494d-a227-cc65aa564d8e"
      },
      "source": [
        "name = input(\"What's your name? \")\n",
        "print(\"Hello, \" + name + \"!\")"
      ],
      "execution_count": null,
      "outputs": [
        {
          "output_type": "stream",
          "text": [
            "What's your name? Priyanshu\n",
            "Hello, Priyanshu!\n"
          ],
          "name": "stdout"
        }
      ]
    },
    {
      "cell_type": "code",
      "metadata": {
        "id": "J-FRDHGjykgG",
        "colab": {
          "base_uri": "https://localhost:8080/",
          "height": 101
        },
        "outputId": "c9df4c14-db38-4f85-8581-ddaa260e8a19"
      },
      "source": [
        "current_value = 1\n",
        "while current_value <= 5:\n",
        "  print(current_value)\n",
        "  current_value += 1"
      ],
      "execution_count": null,
      "outputs": [
        {
          "output_type": "stream",
          "text": [
            "1\n",
            "2\n",
            "3\n",
            "4\n",
            "5\n"
          ],
          "name": "stdout"
        }
      ]
    },
    {
      "cell_type": "code",
      "metadata": {
        "id": "_04XLG1mysVq",
        "colab": {
          "base_uri": "https://localhost:8080/",
          "height": 84
        },
        "outputId": "0e84ee6b-5bce-4a73-eb56-b3a5ea70e73a"
      },
      "source": [
        "msg = ''\n",
        "while msg != 'quit':\n",
        "  msg = input(\"What's your message? \")\n",
        "  print(msg)"
      ],
      "execution_count": null,
      "outputs": [
        {
          "output_type": "stream",
          "text": [
            "What's your message? hi \n",
            "hi \n",
            "What's your message? quit\n",
            "quit\n"
          ],
          "name": "stdout"
        }
      ]
    },
    {
      "cell_type": "code",
      "metadata": {
        "id": "JGZMu1nm0gEk",
        "colab": {
          "base_uri": "https://localhost:8080/",
          "height": 34
        },
        "outputId": "64e13c45-25a2-4433-e422-be80b833676a"
      },
      "source": [
        "def greet_user():\n",
        "  print(\"Hello!\")\n",
        "greet_user()"
      ],
      "execution_count": null,
      "outputs": [
        {
          "output_type": "stream",
          "text": [
            "Hello!\n"
          ],
          "name": "stdout"
        }
      ]
    },
    {
      "cell_type": "code",
      "metadata": {
        "id": "vm0BFlmU0wIy",
        "colab": {
          "base_uri": "https://localhost:8080/",
          "height": 34
        },
        "outputId": "e81c371c-f2f5-45a1-bcdc-4541731cf1c8"
      },
      "source": [
        "def greet_user(username):\n",
        "  print(\"Hello, \" + username + \"!\")\n",
        "greet_user('jesse')"
      ],
      "execution_count": null,
      "outputs": [
        {
          "output_type": "stream",
          "text": [
            "Hello, jesse!\n"
          ],
          "name": "stdout"
        }
      ]
    },
    {
      "cell_type": "code",
      "metadata": {
        "id": "YYKtSzgT05QV",
        "colab": {
          "base_uri": "https://localhost:8080/",
          "height": 50
        },
        "outputId": "d7bdbe49-f6c6-450d-9d5e-c9859f043951"
      },
      "source": [
        "def make_pizza(topping='bacon'):\n",
        "  print(\"Have a \" + topping + \" pizza!\")\n",
        "make_pizza()\n",
        "make_pizza('pepperoni')"
      ],
      "execution_count": null,
      "outputs": [
        {
          "output_type": "stream",
          "text": [
            "Have a bacon pizza!\n",
            "Have a pepperoni pizza!\n"
          ],
          "name": "stdout"
        }
      ]
    },
    {
      "cell_type": "code",
      "metadata": {
        "id": "as2LSLTP1DOn",
        "colab": {
          "base_uri": "https://localhost:8080/",
          "height": 34
        },
        "outputId": "41c8e587-3aa2-4d65-e01b-afdb3ddfb8fa"
      },
      "source": [
        "def add_numbers(x, y):\n",
        "  return x + y\n",
        "sum = add_numbers(3, 5)\n",
        "print(sum)"
      ],
      "execution_count": null,
      "outputs": [
        {
          "output_type": "stream",
          "text": [
            "8\n"
          ],
          "name": "stdout"
        }
      ]
    },
    {
      "cell_type": "code",
      "metadata": {
        "id": "L4S1JqFi1JlI",
        "colab": {
          "base_uri": "https://localhost:8080/",
          "height": 50
        },
        "outputId": "ba463574-2d11-4c09-aca4-16de3ce00d34"
      },
      "source": [
        "class Dog():\n",
        "  def __init__(self, name):\n",
        "    self.name = name\n",
        "  def sit(self):\n",
        "    print(self.name + \" is sitting.\")\n",
        "my_dog = Dog('Peso')\n",
        "print(my_dog.name + \" is a great dog!\")\n",
        "my_dog.sit()"
      ],
      "execution_count": null,
      "outputs": [
        {
          "output_type": "stream",
          "text": [
            "Peso is a great dog!\n",
            "Peso is sitting.\n"
          ],
          "name": "stdout"
        }
      ]
    },
    {
      "cell_type": "code",
      "metadata": {
        "id": "E5jqDLyK1fKS",
        "colab": {
          "base_uri": "https://localhost:8080/",
          "height": 67
        },
        "outputId": "628c64ae-3f1c-4f27-e5c5-c941069a4997"
      },
      "source": [
        "class SARDog(Dog):\n",
        "  def __init__(self, name):\n",
        "    super().__init__(name)\n",
        "  def search(self):\n",
        "    print(self.name + \" is searching.\")\n",
        "my_dog = SARDog('Willie')\n",
        "print(my_dog.name + \" is a search dog.\")\n",
        "my_dog.sit()\n",
        "my_dog.search()"
      ],
      "execution_count": null,
      "outputs": [
        {
          "output_type": "stream",
          "text": [
            "Willie is a search dog.\n",
            "Willie is sitting.\n",
            "Willie is searching.\n"
          ],
          "name": "stdout"
        }
      ]
    },
    {
      "cell_type": "code",
      "metadata": {
        "id": "-v9SPQdk7HaH",
        "colab": {
          "base_uri": "https://localhost:8080/",
          "height": 50
        },
        "outputId": "14127c1a-fe17-414a-84d6-741110491883"
      },
      "source": [
        "prompt = \"How many tickets do you need? \"\n",
        "num_tickets = input(prompt)\n",
        "try:\n",
        "  num_tickets = int(num_tickets)\n",
        "except ValueError:\n",
        "  print(\"Please try again.\")\n",
        "else:\n",
        "  print(\"Your tickets are printing.\")"
      ],
      "execution_count": null,
      "outputs": [
        {
          "output_type": "stream",
          "text": [
            "How many tickets do you need? a\n",
            "Please try again.\n"
          ],
          "name": "stdout"
        }
      ]
    }
  ]
}