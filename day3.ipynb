{
  "nbformat": 4,
  "nbformat_minor": 0,
  "metadata": {
    "colab": {
      "name": "day3.ipynb",
      "provenance": [],
      "authorship_tag": "ABX9TyPOqzCEUpxkBf+iRvv+73xk",
      "include_colab_link": true
    },
    "kernelspec": {
      "name": "python3",
      "display_name": "Python 3"
    }
  },
  "cells": [
    {
      "cell_type": "markdown",
      "metadata": {
        "id": "view-in-github",
        "colab_type": "text"
      },
      "source": [
        "<a href=\"https://colab.research.google.com/github/priyanshurishi/Python-Cheetsheet/blob/main/day3.ipynb\" target=\"_parent\"><img src=\"https://colab.research.google.com/assets/colab-badge.svg\" alt=\"Open In Colab\"/></a>"
      ]
    },
    {
      "cell_type": "code",
      "metadata": {
        "id": "BbZ8oBm-2JrD",
        "colab": {
          "base_uri": "https://localhost:8080/",
          "height": 34
        },
        "outputId": "5fd20c96-af0f-43f3-f489-0112e8abd0b0"
      },
      "source": [
        "alien_0 = {'color': 'green', 'points': 5}\n",
        "print(alien_0)"
      ],
      "execution_count": null,
      "outputs": [
        {
          "output_type": "stream",
          "text": [
            "{'color': 'green', 'points': 5}\n"
          ],
          "name": "stdout"
        }
      ]
    },
    {
      "cell_type": "code",
      "metadata": {
        "id": "9_yy7yga2h3A",
        "colab": {
          "base_uri": "https://localhost:8080/",
          "height": 50
        },
        "outputId": "2f3433a8-2626-4df1-cda8-e615509dc6ec"
      },
      "source": [
        "alien_0 = {'color': 'green', 'points': 5}\n",
        "print(alien_0['color'])\n",
        "print(alien_0['points'])"
      ],
      "execution_count": null,
      "outputs": [
        {
          "output_type": "stream",
          "text": [
            "green\n",
            "5\n"
          ],
          "name": "stdout"
        }
      ]
    },
    {
      "cell_type": "code",
      "metadata": {
        "id": "yhNhXj-02jxb",
        "colab": {
          "base_uri": "https://localhost:8080/",
          "height": 50
        },
        "outputId": "acddc6f2-5dd5-4809-acc4-0831b15fa795"
      },
      "source": [
        "alien_0 = {'color': 'green'}\n",
        "alien_color = alien_0.get('color')\n",
        "alien_points = alien_0.get('points', 0)\n",
        "print(alien_color)\n",
        "print(alien_points)\n"
      ],
      "execution_count": null,
      "outputs": [
        {
          "output_type": "stream",
          "text": [
            "green\n",
            "0\n"
          ],
          "name": "stdout"
        }
      ]
    },
    {
      "cell_type": "code",
      "metadata": {
        "id": "_0bbwPE12rua",
        "colab": {
          "base_uri": "https://localhost:8080/",
          "height": 34
        },
        "outputId": "ba4a2dfb-e046-496e-9079-fcd3699703cd"
      },
      "source": [
        "alien_0 = {'color': 'green', 'points': 5}\n",
        "alien_0['x'] = 0\n",
        "alien_0['y'] = 25\n",
        "alien_0['speed'] = 1.5\n",
        "print(alien_0)"
      ],
      "execution_count": null,
      "outputs": [
        {
          "output_type": "stream",
          "text": [
            "{'color': 'green', 'points': 5, 'x': 0, 'y': 25, 'speed': 1.5}\n"
          ],
          "name": "stdout"
        }
      ]
    },
    {
      "cell_type": "code",
      "metadata": {
        "id": "rDWMaU6M20X4",
        "colab": {
          "base_uri": "https://localhost:8080/",
          "height": 34
        },
        "outputId": "648049d5-7fff-4b40-b7fd-605262a1739b"
      },
      "source": [
        "alien_0 = {}\n",
        "alien_0['color'] = 'green'\n",
        "alien_0['points'] = 5\n",
        "print(alien_0)"
      ],
      "execution_count": null,
      "outputs": [
        {
          "output_type": "stream",
          "text": [
            "{'color': 'green', 'points': 5}\n"
          ],
          "name": "stdout"
        }
      ]
    },
    {
      "cell_type": "code",
      "metadata": {
        "id": "Speq9_9G27Ng",
        "colab": {
          "base_uri": "https://localhost:8080/",
          "height": 50
        },
        "outputId": "1a79d450-28c4-473d-dbd0-027839774d10"
      },
      "source": [
        "alien_0 = {'color': 'green', 'points': 5}\n",
        "print(alien_0)\n",
        "# Change the alien's color and point value.\n",
        "alien_0['color'] = 'yellow'\n",
        "alien_0['points'] = 10\n",
        "print(alien_0)"
      ],
      "execution_count": null,
      "outputs": [
        {
          "output_type": "stream",
          "text": [
            "{'color': 'green', 'points': 5}\n",
            "{'color': 'yellow', 'points': 10}\n"
          ],
          "name": "stdout"
        }
      ]
    },
    {
      "cell_type": "code",
      "metadata": {
        "id": "_srz0kb03AAU",
        "colab": {
          "base_uri": "https://localhost:8080/",
          "height": 50
        },
        "outputId": "f86d7f51-5e8d-42ff-df47-120937166f22"
      },
      "source": [
        "alien_0 = {'color': 'green', 'points': 5}\n",
        "print(alien_0)\n",
        "del alien_0['points']\n",
        "print(alien_0)"
      ],
      "execution_count": null,
      "outputs": [
        {
          "output_type": "stream",
          "text": [
            "{'color': 'green', 'points': 5}\n",
            "{'color': 'green'}\n"
          ],
          "name": "stdout"
        }
      ]
    },
    {
      "cell_type": "code",
      "metadata": {
        "id": "JJKnZeq63XOB",
        "colab": {
          "base_uri": "https://localhost:8080/",
          "height": 84
        },
        "outputId": "5a0f7e52-cb23-4a61-f951-17cae23c206e"
      },
      "source": [
        "# Store people's favorite languages.\n",
        "fav_languages = {\n",
        "    'jen': 'python',\n",
        "    'sarah': 'c',\n",
        "    'edward': 'ruby',\n",
        "    'phil': 'python',\n",
        "}\n",
        "# Show each person's favorite language.\n",
        "for name, language in fav_languages.items():\n",
        "  print(name + \": \" + language)"
      ],
      "execution_count": null,
      "outputs": [
        {
          "output_type": "stream",
          "text": [
            "jen: python\n",
            "sarah: c\n",
            "edward: ruby\n",
            "phil: python\n"
          ],
          "name": "stdout"
        }
      ]
    },
    {
      "cell_type": "code",
      "metadata": {
        "id": "HAmQz7og4DVP",
        "colab": {
          "base_uri": "https://localhost:8080/",
          "height": 84
        },
        "outputId": "3053311d-547b-4659-d229-60b46412f9ae"
      },
      "source": [
        "# Show everyone who's taken the survey.\n",
        "for name in fav_languages.keys():\n",
        "  print(name)"
      ],
      "execution_count": null,
      "outputs": [
        {
          "output_type": "stream",
          "text": [
            "jen\n",
            "sarah\n",
            "edward\n",
            "phil\n"
          ],
          "name": "stdout"
        }
      ]
    },
    {
      "cell_type": "code",
      "metadata": {
        "id": "jGyoCapW4buF",
        "colab": {
          "base_uri": "https://localhost:8080/",
          "height": 84
        },
        "outputId": "3b09d401-ea47-4ca7-c767-e56e5cfcc8a5"
      },
      "source": [
        "# Show all the languages that have been chosen.\n",
        "for language in fav_languages.values():\n",
        "  print(language)"
      ],
      "execution_count": null,
      "outputs": [
        {
          "output_type": "stream",
          "text": [
            "python\n",
            "c\n",
            "ruby\n",
            "python\n"
          ],
          "name": "stdout"
        }
      ]
    },
    {
      "cell_type": "code",
      "metadata": {
        "id": "ILFd25uC4kPZ",
        "colab": {
          "base_uri": "https://localhost:8080/",
          "height": 84
        },
        "outputId": "9d453eba-d1c9-4b3c-b28b-d55389cc5826"
      },
      "source": [
        "# Show each person's favorite language,\n",
        "# in order by the person's name.\n",
        "for name in sorted(fav_languages.keys()):\n",
        "  print(name + \": \" + language)"
      ],
      "execution_count": null,
      "outputs": [
        {
          "output_type": "stream",
          "text": [
            "edward: python\n",
            "jen: python\n",
            "phil: python\n",
            "sarah: python\n"
          ],
          "name": "stdout"
        }
      ]
    },
    {
      "cell_type": "code",
      "metadata": {
        "id": "Vo6rDYiy4nqz",
        "colab": {
          "base_uri": "https://localhost:8080/",
          "height": 34
        },
        "outputId": "e965dc57-99e6-4da7-c114-5d960056ad4e"
      },
      "source": [
        "num_responses = len(fav_languages)\n",
        "print(num_responses)"
      ],
      "execution_count": null,
      "outputs": [
        {
          "output_type": "stream",
          "text": [
            "4\n"
          ],
          "name": "stdout"
        }
      ]
    },
    {
      "cell_type": "code",
      "metadata": {
        "id": "TXYjLmnE6Efl",
        "colab": {
          "base_uri": "https://localhost:8080/",
          "height": 185
        },
        "outputId": "ace2f99e-63eb-41aa-c7d7-dc7e05566d91"
      },
      "source": [
        "# Start with an empty list.\n",
        "users = []\n",
        "# Make a new user, and add them to the list.\n",
        "new_user = {\n",
        "    'last': 'fermi',\n",
        "    'first': 'enrico',\n",
        "    'username': 'efermi',\n",
        "}\n",
        "users.append(new_user)\n",
        "# Make another new user, and add them as well.\n",
        "new_user = {\n",
        "    'last': 'curie',\n",
        "    'first': 'marie',\n",
        "    'username': 'mcurie',\n",
        "}\n",
        "users.append(new_user)\n",
        "# Show all information about each user.\n",
        "for user_dict in users:\n",
        "  for k, v in user_dict.items():\n",
        "    print(k + \": \" + v)\n",
        "  print(\"\\n\")"
      ],
      "execution_count": null,
      "outputs": [
        {
          "output_type": "stream",
          "text": [
            "last: fermi\n",
            "first: enrico\n",
            "username: efermi\n",
            "\n",
            "\n",
            "last: curie\n",
            "first: marie\n",
            "username: mcurie\n",
            "\n",
            "\n"
          ],
          "name": "stdout"
        }
      ]
    },
    {
      "cell_type": "code",
      "metadata": {
        "id": "gYvLZ8g16cm1",
        "colab": {
          "base_uri": "https://localhost:8080/",
          "height": 185
        },
        "outputId": "6265dc35-4b2e-4c2b-a153-508c68d5de5b"
      },
      "source": [
        "# Define a list of users, where each user\n",
        "# is represented by a dictionary.\n",
        "users = [\n",
        "{\n",
        "    'last': 'fermi',\n",
        "    'first': 'enrico',\n",
        "    'username': 'efermi',\n",
        "},\n",
        "{\n",
        "    'last': 'curie',\n",
        "    'first': 'marie',\n",
        "    'username': 'mcurie',\n",
        "},\n",
        "]\n",
        "# Show all information about each user.\n",
        "for user_dict in users:\n",
        "  for k,v in user_dict.items():\n",
        "    print(k + \": \" + v)\n",
        "  print(\"\\n\")"
      ],
      "execution_count": null,
      "outputs": [
        {
          "output_type": "stream",
          "text": [
            "last: fermi\n",
            "first: enrico\n",
            "username: efermi\n",
            "\n",
            "\n",
            "last: curie\n",
            "first: marie\n",
            "username: mcurie\n",
            "\n",
            "\n"
          ],
          "name": "stdout"
        }
      ]
    },
    {
      "cell_type": "code",
      "metadata": {
        "id": "sDB5H_Iq9bBD",
        "colab": {
          "base_uri": "https://localhost:8080/",
          "height": 50
        },
        "outputId": "f585853d-5082-46e5-94a1-82ed95a859ac"
      },
      "source": [
        "aliens = []\n",
        "# Make a million green aliens, worth 5 points\n",
        "# each. Have them all start in one row.\n",
        "for alien_num in range(1000000):\n",
        "  new_alien = {}\n",
        "  new_alien['color'] = 'green'\n",
        "  new_alien['points'] = 5\n",
        "  new_alien['x'] = 20 * alien_num\n",
        "  new_alien['y'] = 0\n",
        "  aliens.append(new_alien)\n",
        "# Prove the list contains a million aliens.\n",
        "num_aliens = len(aliens)\n",
        "print(\"Number of aliens created:\")\n",
        "print(num_aliens)"
      ],
      "execution_count": null,
      "outputs": [
        {
          "output_type": "stream",
          "text": [
            "Number of aliens created:\n",
            "1000000\n"
          ],
          "name": "stdout"
        }
      ]
    }
  ]
}